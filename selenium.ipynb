{
 "cells": [
  {
   "cell_type": "code",
   "execution_count": 1,
   "metadata": {},
   "outputs": [],
   "source": [
    "from selenium import webdriver"
   ]
  },
  {
   "cell_type": "code",
   "execution_count": 2,
   "metadata": {},
   "outputs": [],
   "source": [
    "from bs4 import BeautifulSoup\n",
    "from urllib.request import urlopen\n",
    "import requests\n",
    "import time\n",
    "import urllib.parse\n",
    "import csv\n",
    "import re"
   ]
  },
  {
   "cell_type": "code",
   "execution_count": 3,
   "metadata": {},
   "outputs": [],
   "source": [
    "import sys\n",
    "from PyQt5.QtCore import QUrl\n",
    "from PyQt5.QtWidgets import QApplication\n",
    "from PyQt5.QtWebEngineWidgets import QWebEnginePage, QWebEngineView"
   ]
  },
  {
   "cell_type": "code",
   "execution_count": 4,
   "metadata": {},
   "outputs": [],
   "source": [
    "import bs4 as bs\n",
    "import urllib.request\n",
    "import pandas as pd "
   ]
  },
  {
   "cell_type": "code",
   "execution_count": 5,
   "metadata": {},
   "outputs": [],
   "source": [
    "# 用一個class實作Page\n",
    "class Page(QWebEnginePage):\n",
    "\n",
    "    def __init__(self, url):\n",
    "        self.app = QApplication(sys.argv)\n",
    "        QWebEnginePage.__init__(self)\n",
    "        self.html = ''\n",
    "        self.loadFinished.connect(self._on_load_finished)\n",
    "        self.load(QUrl(url))\n",
    "        self.app.exec_()   \n",
    "    \n",
    "    def _on_load_finished(self):\n",
    "        self.html = self.toHtml(self.Callable)\n",
    "        print('Load finished')\n",
    "\n",
    "    def Callable(self, html_str):\n",
    "        self.html = html_str\n",
    "        self.app.quit()"
   ]
  },
  {
   "cell_type": "code",
   "execution_count": 6,
   "metadata": {},
   "outputs": [],
   "source": [
    "chrome_path = \"./chromedriver.exe\" #chromedriver.exe執行檔所存在的路徑"
   ]
  },
  {
   "cell_type": "code",
   "execution_count": 7,
   "metadata": {},
   "outputs": [],
   "source": [
    "#key_word = urllib.parse.quote('寵物罐頭')"
   ]
  },
  {
   "cell_type": "code",
   "execution_count": 8,
   "metadata": {},
   "outputs": [],
   "source": [
    "#driver = webdriver.Chrome(chrome_path)\n",
    "#driver.get(\"https://find.ruten.com.tw/s/?q=\"+key_word)"
   ]
  },
  {
   "cell_type": "code",
   "execution_count": 9,
   "metadata": {},
   "outputs": [],
   "source": [
    "headers = {\n",
    "    # User agent 路邊隨意撿一個來用\n",
    "\n",
    "    'User-Agent': 'Mozilla/5.0 (Macintosh; Intel Mac OS X 10_9_1) AppleWebKit/537.36 (KHTML, like Gecko) Chrome/32.0.1700.107 Safari/537.36',\n",
    "}\n",
    "\n",
    "cookies = {\n",
    "    # 就是這個光啦\n",
    "\n",
    "    '_ts_id':  '999999999999999999', \n",
    "}"
   ]
  },
  {
   "cell_type": "code",
   "execution_count": 10,
   "metadata": {},
   "outputs": [],
   "source": [
    "driver = webdriver.Chrome(chrome_path)\n",
    "driver.get(\"https://www.ruten.com.tw/\")\n",
    "\n",
    "###  define 研究的產品 (罐頭)\n",
    "name_reach = ('咖啡豆')\n",
    "    ### 搜尋名稱\n",
    "driver.find_element_by_xpath(\"//input[@id='keyword']\").send_keys(name_reach)\n",
    "    ### 搜尋\n",
    "driver.find_element_by_xpath(\"//input[@class='rt-header-search-submit']\").click()\n",
    "    \n",
    "    ### 切換顯示方式\n",
    "driver.find_element_by_xpath(\"//a[contains(@class,'list')]\").click()"
   ]
  },
  {
   "cell_type": "code",
   "execution_count": 11,
   "metadata": {},
   "outputs": [
    {
     "name": "stderr",
     "output_type": "stream",
     "text": [
      "C:\\Users\\lin\\Anaconda3\\lib\\site-packages\\ipykernel_launcher.py:13: DeprecationWarning: use driver.switch_to.window instead\n",
      "  del sys.path[0]\n"
     ]
    },
    {
     "name": "stdout",
     "output_type": "stream",
     "text": [
      "Load finished\n"
     ]
    },
    {
     "name": "stderr",
     "output_type": "stream",
     "text": [
      "C:\\Users\\lin\\Anaconda3\\lib\\site-packages\\ipykernel_launcher.py:50: DeprecationWarning: use driver.switch_to.window instead\n"
     ]
    },
    {
     "name": "stdout",
     "output_type": "stream",
     "text": [
      "Load finished\n"
     ]
    }
   ],
   "source": [
    "    for next_page in range(2) :\n",
    "        for product in range(1,2) :\n",
    "\n",
    "            ### click each product\n",
    "\n",
    "            driver.find_element_by_xpath(\n",
    "                \"/html[1]/body[1]/div[1]/div[2]/div[1]/div[1]/div[2]/div[3]/dl[1]/dd[1]/dl[{}]/dd[1]/div[1]/a[1]/img[1]\".format(product)).click()\n",
    "            \n",
    "            time.sleep(5)\n",
    "             ### switch to current page \n",
    "            hand = driver.window_handles\n",
    "\n",
    "            driver.switch_to_window(hand[1])\n",
    "            time.sleep(5)\n",
    "            page = Page(driver.current_url)\n",
    "            soup = bs.BeautifulSoup(page.html, 'html.parser') \n",
    "            ######################################\n",
    "            name = soup.find('span', class_='vmiddle')\n",
    "            #圖片數\n",
    "            imag = soup.find('ul', class_='item-gallery-thumbnail-list js-img-list')\n",
    "            image_num=len (imag) \n",
    "            #商品編號\n",
    "            productID= soup.find('span', class_='content')\n",
    "            #直購價\n",
    "            price = soup.find('strong', class_ = \"rt-text-xx-large price rt-text-important dollar\")\n",
    "            #庫存\n",
    "            inventory = soup.find('strong', class_=\"rt-text-isolated\")\n",
    "            #已賣數量 print (sell_num[0].text)\n",
    "            sell_num = soup.find_all('strong', class_='rt-text-x-large number')\n",
    "            #賣家!!\n",
    "            se = soup.find('div', class_='seller-disc')\n",
    "            seller_ID =  [s for s in se.stripped_strings][0]\n",
    "            #評價!!\n",
    "            se = soup.find('div', class_='seller-disc')\n",
    "            reputation =  [s for s in se.stripped_strings][1]\n",
    "            #問與答\n",
    "            q = soup.find_all('span', class_ ='rt-text-parentesis count')\n",
    "            QA = [qa for qa in q][0]\n",
    "            #購買人次\n",
    "            q = soup.find_all('span', class_ ='rt-text-parentesis count')\n",
    "            buyer_num = [qa for qa in q][1]\n",
    "            \n",
    "\n",
    "\n",
    "\n",
    "            ######################################\n",
    "            driver.close()\n",
    "            \n",
    "\n",
    "            driver.switch_to_window(hand[0])\n",
    "\n",
    "#print (name.text)\n",
    "        \n",
    "        #driver.find_element_by_xpath(\"//div[contains(@class,'block_C')]//li[14]//a[1]\").click()\n",
    "            "
   ]
  },
  {
   "cell_type": "code",
   "execution_count": 12,
   "metadata": {},
   "outputs": [
    {
     "name": "stdout",
     "output_type": "stream",
     "text": [
      "費拉拉 西達摩果香日曬咖啡豆 一磅 限時下殺↘6折 加碼買一磅送一掛耳 手沖 防彈咖啡\n"
     ]
    }
   ],
   "source": [
    "#有load進來了!!\n",
    "print (name.text)\n",
    "#print (image_num)\n",
    "#print (productID.text)\n",
    "#print(price.text)\n",
    "#print (inventory.text)\n",
    "#print (sell_num[0].text)\n",
    "#print(seller_ID)\n",
    "#print(reputation)\n",
    "#print(QA.text)\n",
    "#print(buyer_num.text)"
   ]
  },
  {
   "cell_type": "code",
   "execution_count": 15,
   "metadata": {},
   "outputs": [],
   "source": [
    "from pandas import DataFrame, read_csv\n",
    "import pandas as pd\n",
    "import matplotlib.pyplot as plt\n",
    "from numpy import random\n",
    "import numpy as np\n",
    "path='./'"
   ]
  },
  {
   "cell_type": "code",
   "execution_count": 21,
   "metadata": {},
   "outputs": [
    {
     "name": "stdout",
     "output_type": "stream",
     "text": [
      "[['現貨！寵物剃毛 USB局部剪毛器【HAP982】低噪音理毛器寵物剪毛刀貓咪剃刀狗狗剃毛刀寵物電剪美容寵物用品#捕夢網', 8, '21935623516485', '$299', '99', '1216', 'n26337073', '34801', '2', '99']]\n"
     ]
    }
   ],
   "source": [
    "##用list會有''\n",
    "list_ = []\n",
    "list_.append([name.text,image_num,productID.text,price.text,inventory.text,sell_num[0].text,seller_ID,reputation,QA.text,buyer_num.text])\n",
    "print(list_)\n",
    "#print (name.text)\n",
    "#print (image_num)\n",
    "#print (productID.text)\n",
    "#print(price.text)\n",
    "#print (inventory.text)\n",
    "#print (sell_num[0].text)\n",
    "#print(seller_ID)\n",
    "#print(reputation)\n",
    "#print(QA.text)\n",
    "#print(buyer_num.text)\n",
    "\n",
    "#變數名稱\n",
    "    #writer.writerow(['name','image_num','productID','price','inventory','sell_num','seller_ID','reputation','QA','buyer_num'])\n",
    "    #資料\n",
    "    #writer.writerow([name.text,image_num,productID.text,price.text,inventory.text,sell_num[0].text,seller_ID,reputation,QA.text,buyer_num.text])"
   ]
  },
  {
   "cell_type": "code",
   "execution_count": 20,
   "metadata": {},
   "outputs": [],
   "source": [
    "import os\n",
    "import csv\n",
    "from datetime import datetime"
   ]
  },
  {
   "cell_type": "code",
   "execution_count": 22,
   "metadata": {},
   "outputs": [],
   "source": [
    "with open('1.9ruten.csv','w',encoding='utf-8', newline='') as csv_file:\n",
    "    writer=csv.writer(csv_file)\n",
    "    #變數名稱\n",
    "    writer.writerow(['name','image_num','productID','price','inventory','sell_num','seller_ID','reputation','QA','buyer_num'])\n",
    "    #資料\n",
    "    writer.writerow([name.text,image_num,productID.text,price.text,inventory.text,sell_num[0].text,seller_ID,reputation,QA.text,buyer_num.text])"
   ]
  },
  {
   "cell_type": "code",
   "execution_count": 23,
   "metadata": {},
   "outputs": [],
   "source": [
    "with open ('seller.csv','w',newline='',encoding = 'Utf-8') as csv_file:\n",
    "    writer=csv.writer(csv_file)\n",
    "    writer.writerow(['name','image_num','productID','price','inventory','sell_num','seller_ID','reputation','QA','buyer_num'])\n",
    "    writer.writerow(list_)"
   ]
  },
  {
   "cell_type": "code",
   "execution_count": null,
   "metadata": {},
   "outputs": [],
   "source": []
  }
 ],
 "metadata": {
  "kernelspec": {
   "display_name": "Python 3",
   "language": "python",
   "name": "python3"
  },
  "language_info": {
   "codemirror_mode": {
    "name": "ipython",
    "version": 3
   },
   "file_extension": ".py",
   "mimetype": "text/x-python",
   "name": "python",
   "nbconvert_exporter": "python",
   "pygments_lexer": "ipython3",
   "version": "3.7.4"
  }
 },
 "nbformat": 4,
 "nbformat_minor": 2
}
