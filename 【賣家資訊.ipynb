{
 "cells": [
  {
   "cell_type": "code",
   "execution_count": 80,
   "metadata": {},
   "outputs": [],
   "source": [
    "import requests\n",
    "from bs4 import BeautifulSoup\n",
    "import os\n",
    "import csv\n",
    "from datetime import datetime\n",
    "\n",
    "from pandas import DataFrame, read_csv\n",
    "import pandas as pd\n",
    "import matplotlib.pyplot as plt\n",
    "from numpy import random\n",
    "import numpy as np"
   ]
  },
  {
   "cell_type": "code",
   "execution_count": 81,
   "metadata": {},
   "outputs": [],
   "source": [
    "#page = '2'\n",
    "#url = 'http://class.ruten.com.tw/category/sub00.php?c=00110002&p=' + page"
   ]
  },
  {
   "cell_type": "code",
   "execution_count": 84,
   "metadata": {},
   "outputs": [],
   "source": [
    "#ID=['&all','&sell','&buy','&send']\n",
    "#main_url = 'https://mybid.ruten.com.tw/credit/point?baby740623'\n",
    "#for ID in url:\n",
    "    #url=main_url+ID\n",
    "    #html_re = requests.get(url, headers=headers, cookies=cookies)\n",
    "    #html_re.encoding = 'UTF-8'"
   ]
  },
  {
   "cell_type": "code",
   "execution_count": 155,
   "metadata": {},
   "outputs": [],
   "source": [
    "url = 'https://mybid.ruten.com.tw/credit/point?felala379&send'"
   ]
  },
  {
   "cell_type": "code",
   "execution_count": 156,
   "metadata": {},
   "outputs": [],
   "source": [
    "headers = {\n",
    "    # User agent 路邊隨意撿一個來用\n",
    "\n",
    "    'User-Agent': 'Mozilla/5.0 (Macintosh; Intel Mac OS X 10_9_1) AppleWebKit/537.36 (KHTML, like Gecko) Chrome/32.0.1700.107 Safari/537.36',\n",
    "}\n",
    "\n",
    "cookies = {\n",
    "    # 就是這個光啦\n",
    "\n",
    "    '_ts_id':  '999999999999999999', \n",
    "}\n",
    "\n",
    "html_re = requests.get(url, headers=headers, cookies=cookies)\n",
    "html_re.encoding = 'UTF-8'"
   ]
  },
  {
   "cell_type": "code",
   "execution_count": 157,
   "metadata": {},
   "outputs": [],
   "source": [
    "soup = BeautifulSoup(html_re.text,'html.parser')   ### html.parser python 標準方式 "
   ]
  },
  {
   "cell_type": "code",
   "execution_count": 158,
   "metadata": {
    "scrolled": false
   },
   "outputs": [],
   "source": [
    "#print(soup.prettify())"
   ]
  },
  {
   "cell_type": "code",
   "execution_count": 159,
   "metadata": {},
   "outputs": [],
   "source": [
    "with open ('1.13.seller.csv','a+',newline='',encoding = 'Utf-8') as csv_file:\n",
    "    writer=csv.writer(csv_file)\n",
    "    \n",
    "    rows = soup.find_all('td', align=\"center\", class_=\"bk13\")\n",
    "    for row in rows:\n",
    "         writer.writerow([s for s in row.stripped_strings])"
   ]
  },
  {
   "cell_type": "code",
   "execution_count": 127,
   "metadata": {},
   "outputs": [],
   "source": [
    "#seller_ID\n",
    "seller_ID = soup.find('a', class_='be13')\n",
    "#加入會員時間\n",
    "member_time = soup.find('font', face=\"Arial\")"
   ]
  },
  {
   "cell_type": "code",
   "execution_count": null,
   "metadata": {},
   "outputs": [],
   "source": []
  },
  {
   "cell_type": "code",
   "execution_count": 117,
   "metadata": {},
   "outputs": [],
   "source": []
  },
  {
   "cell_type": "code",
   "execution_count": 117,
   "metadata": {},
   "outputs": [],
   "source": [
    "with open ('1.13.seller.csv','a+',newline='',encoding = 'Utf-8') as csv_file:\n",
    "    writer=csv.writer(csv_file)\n",
    "    \n",
    "    rows = soup.find_all('td', align=\"center\", class_=\"bk13\")\n",
    "    for row in rows:\n",
    "         writer.writerow([s for s in row.stripped_strings])"
   ]
  },
  {
   "cell_type": "code",
   "execution_count": 89,
   "metadata": {},
   "outputs": [
    {
     "name": "stdout",
     "output_type": "stream",
     "text": [
      "felala379\n"
     ]
    }
   ],
   "source": [
    "#seller_ID\n",
    "seller_ID = soup.find('a', class_='be13')\n",
    "print(seller_ID.text)"
   ]
  },
  {
   "cell_type": "code",
   "execution_count": 90,
   "metadata": {},
   "outputs": [
    {
     "name": "stdout",
     "output_type": "stream",
     "text": [
      "2018-09-05\n"
     ]
    }
   ],
   "source": [
    "#加入會員時間\n",
    "member_time = soup.find('font', face=\"Arial\")\n",
    "print(member_time.text)"
   ]
  },
  {
   "cell_type": "code",
   "execution_count": 96,
   "metadata": {},
   "outputs": [
    {
     "name": "stdout",
     "output_type": "stream",
     "text": [
      "['1週之內']\n",
      "['1個月內']\n",
      "['半年之內']\n",
      "['全部紀錄']\n",
      "['15']\n",
      "['92']\n",
      "['476']\n",
      "['893']\n",
      "['0']\n",
      "['2']\n",
      "['2']\n",
      "['3']\n",
      "['0']\n",
      "['0']\n",
      "['0']\n",
      "['0']\n",
      "['15']\n",
      "['94']\n",
      "['478']\n",
      "['896']\n"
     ]
    }
   ],
   "source": [
    "rows = soup.find_all('td', align=\"center\", class_=\"bk13\")\n",
    "for row in rows:\n",
    "    rep = [s for s in row.stripped_strings]\n",
    "    print(rep)"
   ]
  },
  {
   "cell_type": "code",
   "execution_count": null,
   "metadata": {},
   "outputs": [],
   "source": []
  },
  {
   "cell_type": "code",
   "execution_count": 74,
   "metadata": {},
   "outputs": [
    {
     "ename": "AttributeError",
     "evalue": "'list' object has no attribute 'T'",
     "output_type": "error",
     "traceback": [
      "\u001b[1;31m---------------------------------------------------------------------------\u001b[0m",
      "\u001b[1;31mAttributeError\u001b[0m                            Traceback (most recent call last)",
      "\u001b[1;32m<ipython-input-74-2a7a3ab617f5>\u001b[0m in \u001b[0;36m<module>\u001b[1;34m\u001b[0m\n\u001b[0;32m      4\u001b[0m     \u001b[1;32mfor\u001b[0m \u001b[0mrow\u001b[0m \u001b[1;32min\u001b[0m \u001b[0mrows\u001b[0m\u001b[1;33m:\u001b[0m\u001b[1;33m\u001b[0m\u001b[1;33m\u001b[0m\u001b[0m\n\u001b[0;32m      5\u001b[0m         \u001b[0mrep\u001b[0m \u001b[1;33m=\u001b[0m \u001b[1;33m[\u001b[0m\u001b[0ms\u001b[0m \u001b[1;32mfor\u001b[0m \u001b[0ms\u001b[0m \u001b[1;32min\u001b[0m \u001b[0mrow\u001b[0m\u001b[1;33m.\u001b[0m\u001b[0mstripped_strings\u001b[0m\u001b[1;33m]\u001b[0m\u001b[1;33m\u001b[0m\u001b[1;33m\u001b[0m\u001b[0m\n\u001b[1;32m----> 6\u001b[1;33m         \u001b[0mrepT\u001b[0m \u001b[1;33m=\u001b[0m \u001b[0mrep\u001b[0m\u001b[1;33m.\u001b[0m\u001b[0mT\u001b[0m\u001b[1;33m\u001b[0m\u001b[1;33m\u001b[0m\u001b[0m\n\u001b[0m\u001b[0;32m      7\u001b[0m     \u001b[0mwriter\u001b[0m\u001b[1;33m.\u001b[0m\u001b[0mwriterow\u001b[0m\u001b[1;33m(\u001b[0m\u001b[0mrepT\u001b[0m\u001b[1;33m)\u001b[0m\u001b[1;33m\u001b[0m\u001b[1;33m\u001b[0m\u001b[0m\n",
      "\u001b[1;31mAttributeError\u001b[0m: 'list' object has no attribute 'T'"
     ]
    }
   ],
   "source": [
    "with open ('1.8.seller.csv','w',newline='',encoding = 'Utf-8') as csv_file:\n",
    "    writer=csv.writer(csv_file)\n",
    "    rows = soup.find_all('td', align=\"center\", class_=\"bk13\")\n",
    "    for row in rows:\n",
    "        rep = [s for s in row.stripped_strings]\n",
    "        repT = rep.T\n",
    "    writer.writerow(rep)"
   ]
  },
  {
   "cell_type": "code",
   "execution_count": null,
   "metadata": {},
   "outputs": [],
   "source": []
  },
  {
   "cell_type": "code",
   "execution_count": 56,
   "metadata": {},
   "outputs": [
    {
     "name": "stdout",
     "output_type": "stream",
     "text": [
      "['1週之內']\n",
      "['1個月內']\n",
      "['半年之內']\n",
      "['全部紀錄']\n",
      "['20']\n",
      "['46']\n",
      "['299']\n",
      "['1951']\n",
      "['0']\n",
      "['0']\n",
      "['2']\n",
      "['17']\n",
      "['0']\n",
      "['1']\n",
      "['1']\n",
      "['2']\n",
      "['20']\n",
      "['47']\n",
      "['302']\n",
      "['1970']\n"
     ]
    }
   ],
   "source": [
    "# 數字藏在'td', align=\"center\", class_=\"bk13\"\n",
    "# 取得每一列所有欄位文字資訊: stripped_strings\n",
    "rows = soup.find_all('td', align=\"center\", class_=\"bk13\")\n",
    "for row in rows:\n",
    "    print([s for s in row.stripped_strings])"
   ]
  },
  {
   "cell_type": "code",
   "execution_count": 128,
   "metadata": {},
   "outputs": [
    {
     "name": "stdout",
     "output_type": "stream",
     "text": [
      "˙關於評價制度與調整\n",
      "\n",
      "\n",
      "\r\n",
      "\t\t\t\t\t\t\t                            \t\t\t\t\t\t\t\t                              你好，歡迎參觀我的評價頁檔案！\r\n",
      "\t\t\t\t\t\t\t                              \t\t\t\t\t\t\t\t                         \n",
      "平均出貨天數\n",
      "1.7天\n",
      "交關過會員數\n",
      "282次\n",
      "被加入最愛賣家次數\n",
      "65次\n",
      "棄標次數(近半年)\n",
      "0次\n",
      "寄貨與收款交易未完成次數(近半年)\n",
      "0次\n",
      "　\n",
      "1週之內\n",
      "1個月內\n",
      "半年之內\n",
      "全部紀錄\n",
      " 優良評價 ：\n",
      "15\n",
      "92\n",
      "476\n",
      "893\n",
      " 普通評價 ：\n",
      "0\n",
      "2\n",
      "2\n",
      "3\n",
      " 差勁評價 ：\n",
      "0\n",
      "0\n",
      "0\n",
      "0\n",
      "評價次數 ：\n",
      "15\n",
      "94\n",
      "478\n",
      "896\n",
      "\n",
      "\n",
      "\n",
      "\n",
      "\n",
      "所有評價\n",
      "\n",
      "\n",
      "\n",
      "\n",
      "\n",
      "\n",
      "\n",
      "\n",
      "\n",
      "\n",
      "賣東西評價\n",
      "\n",
      "\n",
      "\n",
      "\n",
      "\n",
      "\n",
      "\n",
      "\n",
      "\n",
      "\n",
      " 買東西評價\n",
      "\n",
      "\n",
      "\n",
      "\n",
      "\n",
      "\n",
      "\n",
      "\n",
      "\n",
      "\n",
      "給他人的評價\n",
      "\n",
      "\n",
      "\n",
      "\n",
      "\n"
     ]
    }
   ],
   "source": [
    "b = soup.find_all('td',class_= 'bk13')\n",
    "for aa in b:\n",
    "    print(aa.text)"
   ]
  },
  {
   "cell_type": "code",
   "execution_count": 168,
   "metadata": {},
   "outputs": [
    {
     "ename": "SyntaxError",
     "evalue": "invalid syntax (<ipython-input-168-a29cb8f0d629>, line 1)",
     "output_type": "error",
     "traceback": [
      "\u001b[1;36m  File \u001b[1;32m\"<ipython-input-168-a29cb8f0d629>\"\u001b[1;36m, line \u001b[1;32m1\u001b[0m\n\u001b[1;33m    b = soup.find_all('td',align= 'right').class.find('bk13')\u001b[0m\n\u001b[1;37m                                               ^\u001b[0m\n\u001b[1;31mSyntaxError\u001b[0m\u001b[1;31m:\u001b[0m invalid syntax\n"
     ]
    }
   ],
   "source": [
    "b = soup.find_all('td',align= 'right').class.find('bk13')\n",
    "for aa in b:\n",
    "    print(aa.text)"
   ]
  },
  {
   "cell_type": "code",
   "execution_count": 97,
   "metadata": {},
   "outputs": [],
   "source": [
    "with open ('1.8.seller.csv','w',newline='',encoding = 'Utf-8') as csv_file:\n",
    "    writer=csv.writer(csv_file)\n",
    "    rows = soup.find_all('td', align=\"center\", class_=\"bk13\")\n",
    "    for row in rows:\n",
    "         writer.writerow([s for s in row.stripped_strings])"
   ]
  },
  {
   "cell_type": "code",
   "execution_count": null,
   "metadata": {},
   "outputs": [],
   "source": [
    "rows = soup.find_all('td', align=\"center\", class_=\"bk13\")\n",
    "for row in rows:\n",
    "    print([s for s in row.stripped_strings])"
   ]
  },
  {
   "cell_type": "code",
   "execution_count": 163,
   "metadata": {},
   "outputs": [
    {
     "name": "stdout",
     "output_type": "stream",
     "text": [
      "[['1週之內'], ['1個月內'], ['半年之內'], ['全部紀錄'], ['0'], ['0'], ['14'], ['76'], ['0'], ['0'], ['0'], ['0'], ['0'], ['0'], ['0'], ['0'], ['0'], ['0'], ['14'], ['76']]\n"
     ]
    }
   ],
   "source": [
    "a = soup.find_all('td', align=\"center\", class_=\"bk13\")\n",
    "rep = []\n",
    "for o in a:\n",
    "    rep.append([e for e in o.stripped_strings])\n",
    "print(rep)"
   ]
  },
  {
   "cell_type": "code",
   "execution_count": 161,
   "metadata": {},
   "outputs": [],
   "source": [
    "with open ('1.3seller.csv','w',newline='',encoding = 'Utf-8') as csv_file:\n",
    "    writer=csv.writer(csv_file)\n",
    "    writer.writerow(rep)"
   ]
  },
  {
   "cell_type": "code",
   "execution_count": null,
   "metadata": {},
   "outputs": [],
   "source": []
  },
  {
   "cell_type": "code",
   "execution_count": null,
   "metadata": {},
   "outputs": [],
   "source": []
  },
  {
   "cell_type": "code",
   "execution_count": null,
   "metadata": {},
   "outputs": [],
   "source": []
  },
  {
   "cell_type": "code",
   "execution_count": 10,
   "metadata": {},
   "outputs": [
    {
     "name": "stdout",
     "output_type": "stream",
     "text": [
      "['歡迎與我聯繫，我會盡快回覆喔！', '(', '什麼是露露通？', ')']\n",
      "['會員登入', '新使用者？', '加入會員', '客服中心', '常見問題', '交易安全', 'PChome']\n",
      "['客服中心', '常見問題', '交易安全', 'PChome']\n",
      "['找東西 → 找您想要的東西， 找東西 → 找便宜又實惠的東西', '優良交易評價：', '2064', '分', '平均出貨天數', '0.6天', '交關過會員數', '1792次', '被加入最愛賣家次數', '94次', '棄標次數(近半年)', '0次', '寄貨與收款交易未完成次數(近半年)', '0次', '過去評價紀錄表', '1週之內', '1個月內', '半年之內', '全部紀錄', '優良評價 ：', '14', '51', '293', '2064', '普通評價 ：', '0', '1', '2', '17', '差勁評價 ：', '0', '1', '1', '2', '評價次數 ：', '14', '53', '296', '2083']\n",
      "['找東西 → 找您想要的東西， 找東西 → 找便宜又實惠的東西', '優良交易評價：', '2064', '分', '平均出貨天數', '0.6天', '交關過會員數', '1792次', '被加入最愛賣家次數', '94次', '棄標次數(近半年)', '0次', '寄貨與收款交易未完成次數(近半年)', '0次']\n",
      "[]\n",
      "['找東西 → 找您想要的東西， 找東西 → 找便宜又實惠的東西', '優良交易評價：', '2064', '分', '平均出貨天數', '0.6天', '交關過會員數', '1792次', '被加入最愛賣家次數', '94次', '棄標次數(近半年)', '0次', '寄貨與收款交易未完成次數(近半年)', '0次']\n",
      "['找東西 → 找您想要的東西， 找東西 → 找便宜又實惠的東西']\n",
      "['過去評價紀錄表', '1週之內', '1個月內', '半年之內', '全部紀錄', '優良評價 ：', '14', '51', '293', '2064', '普通評價 ：', '0', '1', '2', '17', '差勁評價 ：', '0', '1', '1', '2', '評價次數 ：', '14', '53', '296', '2083']\n",
      "['過去評價紀錄表', '1週之內', '1個月內', '半年之內', '全部紀錄', '優良評價 ：', '14', '51', '293', '2064', '普通評價 ：', '0', '1', '2', '17', '差勁評價 ：', '0', '1', '1', '2', '評價次數 ：', '14', '53', '296', '2083']\n",
      "['過去評價紀錄表', '1週之內', '1個月內', '半年之內', '全部紀錄', '優良評價 ：', '14', '51', '293', '2064', '普通評價 ：', '0', '1', '2', '17', '差勁評價 ：', '0', '1', '1', '2', '評價次數 ：', '14', '53', '296', '2083']\n",
      "['過去評價紀錄表', '1週之內', '1個月內', '半年之內', '全部紀錄', '優良評價 ：', '14', '51', '293', '2064', '普通評價 ：', '0', '1', '2', '17', '差勁評價 ：', '0', '1', '1', '2', '評價次數 ：', '14', '53', '296', '2083']\n",
      "['過去評價紀錄表', '1週之內', '1個月內', '半年之內', '全部紀錄', '優良評價 ：', '14', '51', '293', '2064', '普通評價 ：', '0', '1', '2', '17', '差勁評價 ：', '0', '1', '1', '2', '評價次數 ：', '14', '53', '296', '2083']\n",
      "['1', '.', '2', '.', '3', '.', '4', '.', '5', '.', '6', '.', '7', '.', '8', '.', '9', '.', '10', '.']\n"
     ]
    }
   ],
   "source": [
    "a = soup.find_all('td',valign='top')\n",
    "for o in a:\n",
    "    print([e for e in o.stripped_strings])"
   ]
  },
  {
   "cell_type": "code",
   "execution_count": 69,
   "metadata": {},
   "outputs": [
    {
     "name": "stdout",
     "output_type": "stream",
     "text": [
      "[['過去評價紀錄表', '1週之內', '1個月內', '半年之內', '全部紀錄'], ['過去評價紀錄表'], ['1週之內', '1個月內', '半年之內', '全部紀錄'], [], ['優良評價 ：', '14', '51', '293', '2064'], ['優良評價 ：', '14', '51', '293', '2064'], [], ['普通評價 ：', '0', '1', '2', '17'], ['普通評價 ：', '0', '1', '2', '17'], [], ['差勁評價 ：', '0', '1', '1', '2'], ['差勁評價 ：', '0', '1', '1', '2'], [], ['評價次數 ：', '14', '53', '296', '2083'], ['評價次數 ：', '14', '53', '296', '2083']]\n"
     ]
    }
   ],
   "source": [
    "a = soup.find('table',id = 'table63').find_all('tr')\n",
    "rep = []\n",
    "for o in a:\n",
    "    rep.append([e for e in o.stripped_strings])\n",
    "print(rep)"
   ]
  },
  {
   "cell_type": "code",
   "execution_count": 68,
   "metadata": {},
   "outputs": [
    {
     "data": {
      "text/plain": [
       "5"
      ]
     },
     "execution_count": 68,
     "metadata": {},
     "output_type": "execute_result"
    }
   ],
   "source": [
    "len(rep)"
   ]
  },
  {
   "cell_type": "code",
   "execution_count": 12,
   "metadata": {},
   "outputs": [
    {
     "name": "stdout",
     "output_type": "stream",
     "text": [
      "['14', '53', '296', '2083']\n"
     ]
    }
   ],
   "source": [
    "a = soup.find('table',id = 'table63').find_all('tr')\n",
    "one_week = [e for e in o.stripped_strings][1:9]\n",
    "print(one_week)"
   ]
  },
  {
   "cell_type": "code",
   "execution_count": 13,
   "metadata": {},
   "outputs": [
    {
     "name": "stdout",
     "output_type": "stream",
     "text": [
      "[<tr>\n",
      "<td>\n",
      "<table border=\"0\" cellpadding=\"2\" cellspacing=\"0\" id=\"table64\" width=\"100%\">\n",
      "<tr>\n",
      "<td class=\"bk16b\" colspan=\"5\" width=\"100%\">\n",
      "                                                                                                          過去評價紀錄表\n",
      "                                                                                                        </td>\n",
      "</tr>\n",
      "<tr>\n",
      "<td class=\"bk13\" width=\"28%\">　</td>\n",
      "<td align=\"center\" class=\"bk13\" width=\"18%\"><strong>1週之內</strong></td>\n",
      "<td align=\"center\" class=\"bk13\" width=\"18%\"><strong>1個月內</strong></td>\n",
      "<td align=\"center\" class=\"bk13\" width=\"18%\"><strong>半年之內</strong></td>\n",
      "<td align=\"center\" class=\"bk13\" width=\"18%\"><strong>全部紀錄</strong></td>\n",
      "</tr>\n",
      "</table>\n",
      "</td>\n",
      "</tr>, <tr>\n",
      "<td class=\"bk16b\" colspan=\"5\" width=\"100%\">\n",
      "                                                                                                          過去評價紀錄表\n",
      "                                                                                                        </td>\n",
      "</tr>, <tr>\n",
      "<td class=\"bk13\" width=\"28%\">　</td>\n",
      "<td align=\"center\" class=\"bk13\" width=\"18%\"><strong>1週之內</strong></td>\n",
      "<td align=\"center\" class=\"bk13\" width=\"18%\"><strong>1個月內</strong></td>\n",
      "<td align=\"center\" class=\"bk13\" width=\"18%\"><strong>半年之內</strong></td>\n",
      "<td align=\"center\" class=\"bk13\" width=\"18%\"><strong>全部紀錄</strong></td>\n",
      "</tr>, <tr>\n",
      "<td bgcolor=\"#eeeeee\"><img border=\"0\" src=\"https://www.ruten.com.tw/images/spacer.gif\"/></td>\n",
      "</tr>, <tr>\n",
      "<td>\n",
      "<table border=\"0\" cellpadding=\"2\" cellspacing=\"0\" id=\"table65\" width=\"100%\">\n",
      "<tr>\n",
      "<td align=\"right\" class=\"bk13\" width=\"28%\"><span class=\"t13\"><img align=\"absmiddle\" height=\"23\" src=\"https://www.ruten.com.tw/images/s1.gif\" width=\"24\"> 優良評價 ：</img></span></td>\n",
      "<td align=\"center\" class=\"bk13\" width=\"18%\"><strong>14</strong></td>\n",
      "<td align=\"center\" class=\"bk13\" width=\"18%\"><strong>51</strong></td>\n",
      "<td align=\"center\" class=\"bk13\" width=\"18%\"><strong>293</strong></td>\n",
      "<td align=\"center\" class=\"bk13\" width=\"18%\"><strong>2064</strong></td>\n",
      "</tr>\n",
      "</table>\n",
      "</td>\n",
      "</tr>, <tr>\n",
      "<td align=\"right\" class=\"bk13\" width=\"28%\"><span class=\"t13\"><img align=\"absmiddle\" height=\"23\" src=\"https://www.ruten.com.tw/images/s1.gif\" width=\"24\"> 優良評價 ：</img></span></td>\n",
      "<td align=\"center\" class=\"bk13\" width=\"18%\"><strong>14</strong></td>\n",
      "<td align=\"center\" class=\"bk13\" width=\"18%\"><strong>51</strong></td>\n",
      "<td align=\"center\" class=\"bk13\" width=\"18%\"><strong>293</strong></td>\n",
      "<td align=\"center\" class=\"bk13\" width=\"18%\"><strong>2064</strong></td>\n",
      "</tr>, <tr>\n",
      "<td bgcolor=\"#eeeeee\"><img border=\"0\" src=\"https://www.ruten.com.tw/images/spacer.gif\"/></td>\n",
      "</tr>, <tr>\n",
      "<td>\n",
      "<table border=\"0\" cellpadding=\"2\" cellspacing=\"0\" id=\"table66\" width=\"100%\">\n",
      "<tr>\n",
      "<td align=\"right\" class=\"bk13\" width=\"28%\"><span class=\"t13\"><img align=\"absmiddle\" height=\"23\" src=\"https://www.ruten.com.tw/images/s0.gif\" width=\"24\"> 普通評價 ：</img></span></td>\n",
      "<td align=\"center\" class=\"bk13\" width=\"18%\"><strong>0</strong></td>\n",
      "<td align=\"center\" class=\"bk13\" width=\"18%\"><strong>1</strong></td>\n",
      "<td align=\"center\" class=\"bk13\" width=\"18%\"><strong>2</strong></td>\n",
      "<td align=\"center\" class=\"bk13\" width=\"18%\"><strong>17</strong></td>\n",
      "</tr>\n",
      "</table>\n",
      "</td>\n",
      "</tr>, <tr>\n",
      "<td align=\"right\" class=\"bk13\" width=\"28%\"><span class=\"t13\"><img align=\"absmiddle\" height=\"23\" src=\"https://www.ruten.com.tw/images/s0.gif\" width=\"24\"> 普通評價 ：</img></span></td>\n",
      "<td align=\"center\" class=\"bk13\" width=\"18%\"><strong>0</strong></td>\n",
      "<td align=\"center\" class=\"bk13\" width=\"18%\"><strong>1</strong></td>\n",
      "<td align=\"center\" class=\"bk13\" width=\"18%\"><strong>2</strong></td>\n",
      "<td align=\"center\" class=\"bk13\" width=\"18%\"><strong>17</strong></td>\n",
      "</tr>, <tr>\n",
      "<td bgcolor=\"#eeeeee\"><img border=\"0\" src=\"https://www.ruten.com.tw/images/spacer.gif\"/></td>\n",
      "</tr>, <tr>\n",
      "<td>\n",
      "<table border=\"0\" cellpadding=\"2\" cellspacing=\"0\" id=\"table67\" width=\"100%\">\n",
      "<tr>\n",
      "<td align=\"right\" class=\"bk13\" width=\"28%\"><span class=\"t13\"><img align=\"absmiddle\" height=\"23\" src=\"https://www.ruten.com.tw/images/mad.gif\" width=\"23\"> 差勁評價 ：</img></span></td>\n",
      "<td align=\"center\" class=\"bk13\" width=\"18%\"><strong>0</strong></td>\n",
      "<td align=\"center\" class=\"bk13\" width=\"18%\"><strong>1</strong></td>\n",
      "<td align=\"center\" class=\"bk13\" width=\"18%\"><strong>1</strong></td>\n",
      "<td align=\"center\" class=\"bk13\" width=\"18%\"><strong>2</strong></td>\n",
      "</tr>\n",
      "</table>\n",
      "</td>\n",
      "</tr>, <tr>\n",
      "<td align=\"right\" class=\"bk13\" width=\"28%\"><span class=\"t13\"><img align=\"absmiddle\" height=\"23\" src=\"https://www.ruten.com.tw/images/mad.gif\" width=\"23\"> 差勁評價 ：</img></span></td>\n",
      "<td align=\"center\" class=\"bk13\" width=\"18%\"><strong>0</strong></td>\n",
      "<td align=\"center\" class=\"bk13\" width=\"18%\"><strong>1</strong></td>\n",
      "<td align=\"center\" class=\"bk13\" width=\"18%\"><strong>1</strong></td>\n",
      "<td align=\"center\" class=\"bk13\" width=\"18%\"><strong>2</strong></td>\n",
      "</tr>, <tr>\n",
      "<td bgcolor=\"#eeeeee\"><img border=\"0\" src=\"https://www.ruten.com.tw/images/spacer.gif\"/></td>\n",
      "</tr>, <tr>\n",
      "<td>\n",
      "<table border=\"0\" cellpadding=\"2\" cellspacing=\"0\" id=\"table69\" width=\"100%\">\n",
      "<tr>\n",
      "<td align=\"right\" class=\"bk13\" width=\"28%\"><span class=\"t13\">評價次數 ：</span></td>\n",
      "<td align=\"center\" class=\"bk13\" width=\"18%\"><strong>14</strong></td>\n",
      "<td align=\"center\" class=\"bk13\" width=\"18%\"><strong>53</strong></td>\n",
      "<td align=\"center\" class=\"bk13\" width=\"18%\"><strong>296</strong></td>\n",
      "<td align=\"center\" class=\"bk13\" width=\"18%\"><strong>2083</strong></td>\n",
      "</tr>\n",
      "</table>\n",
      "</td>\n",
      "</tr>, <tr>\n",
      "<td align=\"right\" class=\"bk13\" width=\"28%\"><span class=\"t13\">評價次數 ：</span></td>\n",
      "<td align=\"center\" class=\"bk13\" width=\"18%\"><strong>14</strong></td>\n",
      "<td align=\"center\" class=\"bk13\" width=\"18%\"><strong>53</strong></td>\n",
      "<td align=\"center\" class=\"bk13\" width=\"18%\"><strong>296</strong></td>\n",
      "<td align=\"center\" class=\"bk13\" width=\"18%\"><strong>2083</strong></td>\n",
      "</tr>]\n"
     ]
    }
   ],
   "source": [
    "print(a)"
   ]
  },
  {
   "cell_type": "code",
   "execution_count": null,
   "metadata": {},
   "outputs": [],
   "source": []
  },
  {
   "cell_type": "code",
   "execution_count": null,
   "metadata": {},
   "outputs": [],
   "source": []
  }
 ],
 "metadata": {
  "kernelspec": {
   "display_name": "Python 3",
   "language": "python",
   "name": "python3"
  },
  "language_info": {
   "codemirror_mode": {
    "name": "ipython",
    "version": 3
   },
   "file_extension": ".py",
   "mimetype": "text/x-python",
   "name": "python",
   "nbconvert_exporter": "python",
   "pygments_lexer": "ipython3",
   "version": "3.7.4"
  }
 },
 "nbformat": 4,
 "nbformat_minor": 2
}
