{
 "cells": [
  {
   "cell_type": "code",
   "execution_count": 2,
   "metadata": {},
   "outputs": [],
   "source": [
    "import sys\n",
    "from PyQt5.QtCore import QUrl\n",
    "from PyQt5.QtWidgets import QApplication\n",
    "from PyQt5.QtWebEngineWidgets import QWebEnginePage, QWebEngineView\n",
    "import bs4 as bs\n",
    "import urllib.request"
   ]
  },
  {
   "cell_type": "code",
   "execution_count": 3,
   "metadata": {},
   "outputs": [
    {
     "name": "stdout",
     "output_type": "stream",
     "text": [
      "Load finished\n"
     ]
    }
   ],
   "source": [
    "# 用一個class實作Page\n",
    "class Page(QWebEnginePage):\n",
    "\n",
    "    def __init__(self, url):\n",
    "        self.app = QApplication(sys.argv)\n",
    "        QWebEnginePage.__init__(self)\n",
    "        self.html = ''\n",
    "        self.loadFinished.connect(self._on_load_finished)\n",
    "        self.load(QUrl(url))\n",
    "        self.app.exec_()   \n",
    "    \n",
    "    def _on_load_finished(self):\n",
    "        self.html = self.toHtml(self.Callable)\n",
    "        print('Load finished')\n",
    "\n",
    "    def Callable(self, html_str):\n",
    "        self.html = html_str\n",
    "        self.app.quit()\n",
    "#ID = '21103011563182'\n",
    "page = Page('https://find.ruten.com.tw/s/?q=%E5%92%96%E5%95%A1%E8%B1%86') # 咖啡豆\n",
    "soup = bs.BeautifulSoup(page.html, 'html.parser')"
   ]
  },
  {
   "cell_type": "code",
   "execution_count": 4,
   "metadata": {},
   "outputs": [],
   "source": [
    "#print(soup.prettify())"
   ]
  },
  {
   "cell_type": "code",
   "execution_count": 5,
   "metadata": {},
   "outputs": [
    {
     "name": "stdout",
     "output_type": "stream",
     "text": [
      "<span class=\"ads_tag\">廣告</span>\n"
     ]
    }
   ],
   "source": [
    "a = soup.find('div', class_ = 'prod_img_wrap').find('span')\n",
    "print(a)"
   ]
  },
  {
   "cell_type": "code",
   "execution_count": null,
   "metadata": {},
   "outputs": [],
   "source": [
    "#有廣告or優先\n",
    "<div class=\"prod_img_wrap\">\n",
    "<span class=\"ads_tag\">廣告</span>    "
   ]
  },
  {
   "cell_type": "code",
   "execution_count": 14,
   "metadata": {},
   "outputs": [
    {
     "data": {
      "text/plain": [
       "7"
      ]
     },
     "execution_count": 14,
     "metadata": {},
     "output_type": "execute_result"
    }
   ],
   "source": [
    "#無廣告\n",
    "<div class=\"prod_img_wrap\">\n",
    "<span class=\"ads_tag unblock\"></span>                                       "
   ]
  },
  {
   "cell_type": "code",
   "execution_count": null,
   "metadata": {},
   "outputs": [],
   "source": [
    "紅框\n",
    "<dl _id=\"21848078281706\" class=\"col3f s_shining\" _item=\"pri\" _cid=\"9102707\" _gclass=\"00030011001600050003\">\n",
    "\n",
    "黃框\n",
    "<dl _id=\"21724485346781\" class=\"col3f s_spotlight\" _item=\"pri\" _cid=\"9102707\" _gclass=\"00030011001600050003\">"
   ]
  }
 ],
 "metadata": {
  "kernelspec": {
   "display_name": "Python 3",
   "language": "python",
   "name": "python3"
  },
  "language_info": {
   "codemirror_mode": {
    "name": "ipython",
    "version": 3
   },
   "file_extension": ".py",
   "mimetype": "text/x-python",
   "name": "python",
   "nbconvert_exporter": "python",
   "pygments_lexer": "ipython3",
   "version": "3.7.4"
  }
 },
 "nbformat": 4,
 "nbformat_minor": 2
}
